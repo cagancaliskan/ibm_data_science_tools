{
  "metadata": {
    "kernelspec": {
      "name": "python",
      "display_name": "Python (Pyodide)",
      "language": "python"
    },
    "language_info": {
      "codemirror_mode": {
        "name": "python",
        "version": 3
      },
      "file_extension": ".py",
      "mimetype": "text/x-python",
      "name": "python",
      "nbconvert_exporter": "python",
      "pygments_lexer": "ipython3",
      "version": "3.8"
    }
  },
  "nbformat_minor": 4,
  "nbformat": 4,
  "cells": [
    {
      "cell_type": "code",
      "source": "#\"Cagan Caliskan's 'Data Science Tools' Assignment\"",
      "metadata": {
        "trusted": true
      },
      "outputs": [],
      "execution_count": 2
    },
    {
      "cell_type": "code",
      "source": "## Introduction\n\nWelcome to this Data Science Notebook! This notebook explores various concepts and techniques in data science, including programming examples and data visualization.",
      "metadata": {
        "trusted": true
      },
      "outputs": [],
      "execution_count": null
    },
    {
      "cell_type": "code",
      "source": "## Data Science Languages\n\n- Python\n- R\n- Julia\n- SQL",
      "metadata": {
        "trusted": true
      },
      "outputs": [],
      "execution_count": null
    },
    {
      "cell_type": "code",
      "source": "## Data Science Libraries\n\n- Matplotlib\n- Seaborn\n- Pandas\n- NumPy",
      "metadata": {
        "trusted": true
      },
      "outputs": [],
      "execution_count": null
    },
    {
      "cell_type": "markdown",
      "source": "## Data Science Tools\n\n| Tool             | Description                           |\n|------------------|---------------------------------------|\n| Jupyter Notebook | Interactive computing environment     |\n| TensorFlow       | Machine learning framework            |\n| scikit-learn     | Machine learning library              |\n| RStudio          | Integrated development environment for R|",
      "metadata": {}
    },
    {
      "cell_type": "code",
      "source": "## Arithmetic Expression Examples\n\nIn the following code cells, we will demonstrate basic arithmetic operations using Python.",
      "metadata": {
        "trusted": true
      },
      "outputs": [],
      "execution_count": null
    },
    {
      "cell_type": "code",
      "source": "# Multiply and add numbers\na = 5\nb = 10\nmultiplication_result = a * b\naddition_result = a + b\nmultiplication_result, addition_result",
      "metadata": {
        "trusted": true
      },
      "outputs": [],
      "execution_count": null
    },
    {
      "cell_type": "code",
      "source": "# Convert minutes to hours\nminutes = 150\nhours = minutes / 60\nhours",
      "metadata": {
        "trusted": true
      },
      "outputs": [],
      "execution_count": null
    },
    {
      "cell_type": "code",
      "source": "## Objectives\n\n- Introduce basic data science concepts\n- Demonstrate Python programming for data analysis\n- Showcase usage of Jupyter Notebook and Markdown",
      "metadata": {
        "trusted": true
      },
      "outputs": [],
      "execution_count": null
    },
    {
      "cell_type": "markdown",
      "source": "Author: [Çağan ÇALIŞKAN]",
      "metadata": {}
    }
  ]
}